{
 "cells": [
  {
   "cell_type": "code",
   "execution_count": 32,
   "id": "c2faab5f",
   "metadata": {},
   "outputs": [],
   "source": [
    "import pandas as pd\n",
    "import numpy as np\n",
    "import matplotlib.pyplot as plt\n",
    "import seaborn as sns\n",
    "data = pd.read_csv(\"mutationc.csv\")"
   ]
  },
  {
   "cell_type": "code",
   "execution_count": 33,
   "id": "2f588cbf",
   "metadata": {},
   "outputs": [],
   "source": [
    "def compute_confusion_table(group):\n",
    "    # actual_1d = pandas series of C's as 1 NC's as 0\n",
    "    actual_1d = group.iloc[:,0].replace(r'^C\\d+$','1',regex=True).replace(r'^NC\\d+$','0',regex=True).astype(int)\n",
    "    # predicted = df containing presence of each column not including col of samples\n",
    "    predicted = group.iloc[:,1:]\n",
    "    # convert actual_1d to column vector, tile list to span all of the predicted values\n",
    "    actual = pd.DataFrame(np.tile(actual_1d.values.reshape(actual_1d.shape[0],1), predicted.shape[1]), columns=predicted.columns, index=predicted.index)\n",
    "    # calculate TP FP FN TN\n",
    "    TP = ((actual == 1) & (predicted == 1)).sum(axis=0)\n",
    "    FP = ((actual == 0) & (predicted == 1)).sum(axis=0)\n",
    "    FN = ((actual == 1) & (predicted == 0)).sum(axis=0)\n",
    "    TN = ((actual == 0) & (predicted == 0)).sum(axis=0)\n",
    "    return pd.DataFrame({\"TP\":TP,\"FP\":FP,\"FN\":FN,\"TN\":TN,\"TP-FP\":(TP-FP)})"
   ]
  },
  {
   "cell_type": "markdown",
   "id": "1f7ff92a",
   "metadata": {},
   "source": [
    "## Part I : Compute the accuracy for each feature"
   ]
  },
  {
   "cell_type": "code",
   "execution_count": 34,
   "id": "046358d7",
   "metadata": {},
   "outputs": [
    {
     "data": {
      "text/plain": [
       "BRAF_GRCh37_7:140453136-140453136_Missense-Mutation_SNP_A-A-T               73.771144\n",
       "DRD5_GRCh37_4:9785349-9785349_3'UTR_SNP_G-G-C                               70.283582\n",
       "KRAS_GRCh37_12:25398284-25398284_Missense-Mutation_SNP_C-C-A_C-C-T_C-C-G    64.800995\n",
       "ZBTB20_GRCh37_3:114058003-114058003_Frame-Shift-Del_DEL_G-G--               60.263682\n",
       "DRD5_GRCh37_4:9785421-9785421_3'UTR_SNP_G-G-T                               59.268657\n",
       "DOCK3_GRCh37_3:51417604-51417604_Frame-Shift-Del_DEL_C-C--                  58.263682\n",
       "KRAS_GRCh37_12:25398281-25398281_Missense-Mutation_SNP_C-C-T                57.268657\n",
       "RNF43_GRCh37_17:56435161-56435161_Frame-Shift-Del_DEL_C-C--                 55.273632\n",
       "PGM5_GRCh37_9:70993145-70993145_Missense-Mutation_SNP_A-A-G                 55.263682\n",
       "RAB28_GRCh37_4:13485808-13485808_5'UTR_DEL_G-G--                            55.258706\n",
       "dtype: float64"
      ]
     },
     "execution_count": 34,
     "metadata": {},
     "output_type": "execute_result"
    }
   ],
   "source": [
    "ct = compute_confusion_table(data)\n",
    "Accuracy = ( ct.TP+ct.TN / (ct.TP+ct.TN+ct.FP+ct.FN) * 100 )\n",
    "Accuracy.sort_values(ascending=False).head(10)"
   ]
  },
  {
   "cell_type": "markdown",
   "id": "f62eee16",
   "metadata": {},
   "source": [
    "## Part II : Calculate Other Metrics"
   ]
  },
  {
   "cell_type": "markdown",
   "id": "6c03f7c6",
   "metadata": {},
   "source": [
    "### Classification"
   ]
  },
  {
   "cell_type": "code",
   "execution_count": 35,
   "id": "b196ee97",
   "metadata": {},
   "outputs": [],
   "source": [
    "# find top TP-FP feature define as F\n",
    "F = ct.sort_values(by='TP-FP',ascending=False).head(1).index[0]\n",
    "\n",
    "# derive group A and group B\n",
    "group_A = data[(data[F] == 1)]\n",
    "group_B = data[(data[F] == 0)]\n",
    "\n",
    "# get TP FP values for group A and group B\n",
    "gA_confusion_table = compute_confusion_table(group_A)\n",
    "gB_confusion_table = compute_confusion_table(group_B)\n",
    "\n",
    "# derive alpha and beta features\n",
    "alpha = gA_confusion_table.sort_values(by='TP-FP',ascending=False).index[1]\n",
    "beta = gB_confusion_table.sort_values(by='TP-FP',ascending=False).index[0]"
   ]
  },
  {
   "cell_type": "code",
   "execution_count": 36,
   "id": "d2ae1931",
   "metadata": {},
   "outputs": [],
   "source": [
    "# classifying step\n",
    "def classify(sample):\n",
    "    if sample[F] == 1:\n",
    "        return 1 if sample[alpha] == 1 else 0\n",
    "    else:\n",
    "        return 1 if sample[beta] == 1 else 0\n",
    "    \n",
    "data['classification'] = data.apply(classify, axis=1)"
   ]
  },
  {
   "cell_type": "markdown",
   "id": "ce478791",
   "metadata": {},
   "source": [
    "### Derive Metrics"
   ]
  },
  {
   "cell_type": "code",
   "execution_count": 37,
   "id": "d967bcf7",
   "metadata": {},
   "outputs": [],
   "source": [
    "# derive predicted values from classifications like before\n",
    "actual = data.iloc[:,0].replace(r'^C\\d+$','1',regex=True).replace(r'^NC\\d+$','0',regex=True).astype(int)\n",
    "predicted = data.classification\n",
    "TP = ((actual == 1) & (predicted == 1)).sum(axis=0)\n",
    "FP = ((actual == 0) & (predicted == 1)).sum(axis=0)\n",
    "FN = ((actual == 1) & (predicted == 0)).sum(axis=0)\n",
    "TN = ((actual == 0) & (predicted == 0)).sum(axis=0)\n",
    "Accuracy = (TP + TN) / (TP + TN + FP + FN)\n",
    "Sensitivity = TP / (TP + FN)\n",
    "Specificity = TN / (TN + FP)\n",
    "Precision = TP / (TP + FP)\n",
    "Miss_rate = FN / (TP + FN)\n",
    "False_discovery_rate = FP / (TP + FP)\n",
    "False_omission_rate = FN / (FN + TN)"
   ]
  },
  {
   "cell_type": "code",
   "execution_count": 38,
   "id": "09a84be4",
   "metadata": {},
   "outputs": [
    {
     "data": {
      "text/plain": [
       "Text(50.72222222222221, 0.5, 'ACTUAL')"
      ]
     },
     "execution_count": 38,
     "metadata": {},
     "output_type": "execute_result"
    },
    {
     "data": {
      "image/png": "[encoded data removed]",
      "text/plain": [
       "<Figure size 640x480 with 1 Axes>"
      ]
     },
     "metadata": {},
     "output_type": "display_data"
    }
   ],
   "source": [
    "## render confusion matrix\n",
    "confusion_matrix = pd.DataFrame(columns=[\"PP\",\"PN\"])\n",
    "confusion_matrix[\"PP\"] = TP, FP\n",
    "confusion_matrix[\"PN\"] = FN, TN\n",
    "sns.heatmap(confusion_matrix, annot=True, cbar=False, xticklabels=['Cancer','Non-Cancer'] ,yticklabels=['Cancer','Non-Cancer'], fmt='g')\n",
    "plt.xlabel(\"PREDICTED\")\n",
    "plt.ylabel(\"ACTUAL\")"
   ]
  },
  {
   "cell_type": "code",
   "execution_count": 39,
   "id": "ab26c97d",
   "metadata": {},
   "outputs": [
    {
     "name": "stdout",
     "output_type": "stream",
     "text": [
      "TP:44 FP:19 FN:60 TN:78\n",
      "Accuracy: 60.70 %\n",
      "Sensitivity: 42.31 %\n",
      "Specificity: 80.41 %\n",
      "Precision: 69.84 %\n",
      "Miss rate: 57.69 %\n",
      "False discovery_rate: 30.16 %\n",
      "False omission rate: 43.48 %\n"
     ]
    }
   ],
   "source": [
    "# print\n",
    "print(f\"TP:{TP} FP:{FP} FN:{FN} TN:{TN}\")\n",
    "print(f\"Accuracy: {Accuracy*100:.2f} %\")\n",
    "print(f\"Sensitivity: {Sensitivity*100:.2f} %\")\n",
    "print(f\"Specificity: {Specificity*100:.2f} %\")\n",
    "print(f\"Precision: {Precision*100:.2f} %\")\n",
    "print(f\"Miss rate: {Miss_rate*100:.2f} %\")\n",
    "print(f\"False discovery_rate: {False_discovery_rate*100:.2f} %\")\n",
    "print(f\"False omission rate: {False_omission_rate*100:.2f} %\")"
   ]
  }
 ],
 "metadata": {
  "kernelspec": {
   "display_name": ".venv",
   "language": "python",
   "name": "python3"
  },
  "language_info": {
   "codemirror_mode": {
    "name": "ipython",
    "version": 3
   },
   "file_extension": ".py",
   "mimetype": "text/x-python",
   "name": "python",
   "nbconvert_exporter": "python",
   "pygments_lexer": "ipython3",
   "version": "3.13.5"
  }
 },
 "nbformat": 4,
 "nbformat_minor": 5
}
