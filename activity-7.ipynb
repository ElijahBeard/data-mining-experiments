{
 "cells": [
  {
   "cell_type": "code",
   "execution_count": 4,
   "id": "7d1b21c6",
   "metadata": {},
   "outputs": [],
   "source": [
    "import pandas as pd\n",
    "import numpy as np\n",
    "data = pd.read_csv(\"mutationc.csv\")"
   ]
  },
  {
   "cell_type": "markdown",
   "id": "7d9fbfc8",
   "metadata": {},
   "source": [
    "## Compute Phi"
   ]
  },
  {
   "cell_type": "code",
   "execution_count": 15,
   "id": "e78f5cbb",
   "metadata": {},
   "outputs": [],
   "source": [
    "def compute_phi(group:pd.DataFrame,t:str):\n",
    "    # helpers\n",
    "    tL = group[(group[t] == 1)]\n",
    "    tR = group[(group[t] == 0)]\n",
    "\n",
    "    n_t = group.shape[0]\n",
    "    n_t_C = group[group.iloc[:,0].str.contains(r\"^C\\d+$\",regex=True)].shape[0]\n",
    "    n_t_NC = group[group.iloc[:,0].str.contains(r\"^NC\\d+$\",regex=True)].shape[0]\n",
    "    n_tL = tL.shape[0]\n",
    "    n_tR = tR.shape[0]\n",
    "    n_tL_C = tL[tL.iloc[:,0].str.contains(r\"^C\\d+$\",regex=True)].shape[0]\n",
    "    n_tL_NC = tL[tL.iloc[:,0].str.contains(r\"^NC\\d+$\",regex=True)].shape[0]\n",
    "    n_tR_C = tR[tR.iloc[:,0].str.contains(r\"^C\\d+$\",regex=True)].shape[0]\n",
    "    n_tR_NC = tR[tR.iloc[:,0].str.contains(r\"^NC\\d+$\",regex=True)].shape[0]\n",
    "\n",
    "    P_L = n_tL / n_t\n",
    "    P_R = n_tR / n_t\n",
    "    P_C_tL = n_tL_C / n_tL if n_tL != 0 else 0\n",
    "    P_NC_tL = n_tL_NC / n_tL if n_tL != 0 else 0\n",
    "    P_C_tR = n_tR_C / n_tR if n_tR != 0 else 0\n",
    "    P_NC_tR = n_tR_NC / n_tR if n_tR != 0 else 0\n",
    "    balance = P_C_tL - P_C_tR\n",
    "    Q = abs(P_C_tL - P_C_tR) + abs(P_NC_tL - P_NC_tR)\n",
    "    PLPR = (2 * P_L * P_R)\n",
    "    phi = PLPR * Q\n",
    "\n",
    "    return {\"n(t)\":n_t,\"n(t,C)\":n_t_C,\"n(t,NC)\":n_t_NC,\n",
    "            \n",
    "            \"n(t_L)\":n_tL,\"n(t_R)\":n_tR,\"n(t_L,C)\":n_tL_C,\"n(t_R,C)\":n_tR_C,\n",
    "\n",
    "            \"n(t_L,NC)\":n_tL_NC,\"n(t_R,NC)\":n_tR_NC,\n",
    "\n",
    "            \"P_L\":P_L,\"P_R\":P_R,\"P(C|t_L)\":P_C_tL,\"P(C|t_R)\":P_C_tR,\n",
    "            \n",
    "            \"P(NC|t_L)\":P_NC_tL,\"P(NC|t_R)\":P_NC_tR,\n",
    "\n",
    "            \"2P_LP_R\":PLPR,\"Q\":Q,\"ɸ(s,t)\":phi,\"Balance\":balance}\n",
    "\n",
    "def create_feature_table(group:pd.DataFrame):\n",
    "    ft = pd.DataFrame(columns=[\n",
    "    \"n(t_L)\",\"n(t_R)\",\"n(t_L,C)\",\"n(t_R,C)\",\n",
    "    \"n(t_L,NC)\",\"n(t_R,NC)\",\n",
    "    \"P_L\",\"P_R\",\"P(C|t_L)\",\"P(C|t_R)\",\n",
    "    \"P(NC|t_L)\",\"P(NC|t_R)\",\n",
    "    \"2P_LP_R\",\"Q\",\"ɸ(s,t)\",\"Balance\"\n",
    "    ])\n",
    "\n",
    "    for t in group.columns:\n",
    "        results = compute_phi(group, t)\n",
    "        ft.loc[t] = {\n",
    "            'n(t_L)': results['n(t_L)'],\n",
    "            'n(t_R)': results['n(t_R)'],\n",
    "            'n(t_L,C)': results['n(t_L,C)'],\n",
    "            'n(t_R,C)': results['n(t_R,C)'],\n",
    "            'n(t_L,NC)': results['n(t_L,NC)'],\n",
    "            'n(t_R,NC)': results['n(t_R,NC)'],\n",
    "            'P_L': results['P_L'],\n",
    "            'P_R': results['P_R'],\n",
    "            'P(C|t_L)': results['P(C|t_L)'],\n",
    "            'P(C|t_R)': results['P(C|t_R)'],\n",
    "            'P(NC|t_L)': results['P(NC|t_L)'],\n",
    "            'P(NC|t_R)': results['P(NC|t_R)'],\n",
    "            '2P_LP_R': results['2P_LP_R'],\n",
    "            'Q': results['Q'],\n",
    "            'ɸ(s,t)': results['ɸ(s,t)'],\n",
    "            'Balance':results['Balance']\n",
    "        }\n",
    "    return ft\n"
   ]
  },
  {
   "cell_type": "code",
   "execution_count": null,
   "id": "5c38ce1d",
   "metadata": {},
   "outputs": [
    {
     "data": {
      "text/plain": [
       "np.int64(0)"
      ]
     },
     "execution_count": 31,
     "metadata": {},
     "output_type": "execute_result"
    }
   ],
   "source": [
    "ft = create_feature_table(data.iloc[1:,:])\n",
    "F = ft.sort_values(\"ɸ(s,t)\",ascending=False).Balance.head(1).sum()"
   ]
  },
  {
   "cell_type": "code",
   "execution_count": null,
   "id": "9fe9c39e",
   "metadata": {},
   "outputs": [
    {
     "name": "stdout",
     "output_type": "stream",
     "text": [
      "BRAF_GRCh37_7:140453136-140453136_Missense-Mutation_SNP_A-A-T\n",
      "RTL1_GRCh37_14:101347507-101347507_Frame-Shift-Del_DEL_G-G--\n",
      "-0.6810344827586207\n",
      "KRAS_GRCh37_12:25398284-25398284_Missense-Mutation_SNP_C-C-A_C-C-T_C-C-G\n"
     ]
    },
    {
     "data": {
      "text/plain": [
       "0      0\n",
       "1      0\n",
       "2      1\n",
       "3      0\n",
       "4      1\n",
       "      ..\n",
       "196    0\n",
       "197    0\n",
       "198    1\n",
       "199    0\n",
       "200    0\n",
       "Name: classification, Length: 201, dtype: int64"
      ]
     },
     "execution_count": 33,
     "metadata": {},
     "output_type": "execute_result"
    }
   ],
   "source": [
    "ft = create_feature_table(data.iloc[1:,:])\n",
    "F = ft.sort_values(\"ɸ(s,t)\",ascending=False).index[0]\n",
    "\n",
    "group_A = data[(data[F] == 1)]\n",
    "group_B = data[(data[F] == 0)]\n",
    "gA_ft = create_feature_table(group_A)\n",
    "gB_ft = create_feature_table(group_B)\n",
    "\n",
    "alpha = gA_ft.sort_values(\"ɸ(s,t)\",ascending=False).index[0]\n",
    "alpha_balance = gA_ft.sort_values(\"ɸ(s,t)\",ascending=False).Balance.head(1).sum()\n",
    "beta = gB_ft.sort_values(\"ɸ(s,t)\",ascending=False).index[0]\n",
    "beta_balance = gB_ft.sort_values(\"ɸ(s,t)\",ascending=False).Balance.head(1).sum()\n",
    "\n",
    "print(F)\n",
    "print(alpha)\n",
    "print(alpha_balance)\n",
    "print(beta)\n",
    "\n",
    "def classify(sample):\n",
    "    if sample[F] == 1:\n",
    "        if sample[alpha] == 1:\n",
    "            return 1 if alpha_balance > 0 else 0\n",
    "        else:\n",
    "            return 1 if alpha_balance < 0 else 0\n",
    "    else:\n",
    "        if sample[beta] == 1:\n",
    "            return 1 if beta_balance > 0 else 0\n",
    "        else:\n",
    "            return 1 if beta_balance < 0 else 0\n",
    "        \n",
    "data['classification'] = data.apply(classify, axis=1)"
   ]
  },
  {
   "cell_type": "code",
   "execution_count": null,
   "id": "bef9e9de",
   "metadata": {},
   "outputs": [],
   "source": [
    "# calcuate root feature from compute_phi(data)\n",
    "# calculate feature A from comptue_phi(group_a)\n",
    "# calculate feature B from comptue_phi(group_b)"
   ]
  }
 ],
 "metadata": {
  "kernelspec": {
   "display_name": ".venv",
   "language": "python",
   "name": "python3"
  },
  "language_info": {
   "codemirror_mode": {
    "name": "ipython",
    "version": 3
   },
   "file_extension": ".py",
   "mimetype": "text/x-python",
   "name": "python",
   "nbconvert_exporter": "python",
   "pygments_lexer": "ipython3",
   "version": "3.13.5"
  }
 },
 "nbformat": 4,
 "nbformat_minor": 5
}
