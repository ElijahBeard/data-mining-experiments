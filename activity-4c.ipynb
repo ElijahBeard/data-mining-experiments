{
 "cells": [
  {
   "cell_type": "code",
   "execution_count": 10,
   "id": "cb90c25d",
   "metadata": {},
   "outputs": [],
   "source": [
    "import pandas as pd\n",
    "import matplotlib.pyplot as plt\n",
    "import seaborn as sns\n",
    "import numpy as np\n",
    "data = pd.read_csv(\"mutationc.csv\")"
   ]
  },
  {
   "cell_type": "code",
   "execution_count": 11,
   "id": "50eb2801",
   "metadata": {},
   "outputs": [],
   "source": [
    "ranked_mutations = data.iloc[:,1:].sum().sort_values(ascending=False).keys()\n",
    "t_actual = data.iloc[:,0].str.replace(r'^C\\d+$','1',regex=True).replace(r'^NC\\d+$','0',regex=True).astype(int)\n",
    "actual = pd.DataFrame(\n",
    "    np.tile(t_actual.values.reshape(t_actual.shape[0],1), len(ranked_mutations)),\n",
    "    columns=ranked_mutations,\n",
    "    index=t_actual.index\n",
    ")\n",
    "predicted = data[ranked_mutations]\n",
    "\n",
    "TP = (((actual == 1) & (predicted == 1))).sum()\n",
    "FP = (((actual == 0) & (predicted == 1))).sum()\n",
    "FN = (((actual == 1) & (predicted == 0))).sum()\n",
    "TN = (((actual == 0) & (predicted == 0))).sum()\n",
    "\n",
    "values = pd.DataFrame({\n",
    "    'Mutation':ranked_mutations,\n",
    "    'TP': TP,\n",
    "    'FP': FP,\n",
    "    'FN': FN,\n",
    "    'TN': TN,\n",
    "    'TP-FP':TP-FP\n",
    "})\n",
    "F = values.sort_values(by='TP-FP',ascending=False).head(1)\n",
    "\n",
    "group_A = data[(data[F.index[0]] == 1)]\n",
    "group_B = data[(data[F.index[0]] == 0)]"
   ]
  },
  {
   "cell_type": "markdown",
   "id": "39698adf",
   "metadata": {},
   "source": [
    "## Confusion Matracies"
   ]
  },
  {
   "cell_type": "code",
   "execution_count": 12,
   "id": "1a216c99",
   "metadata": {},
   "outputs": [],
   "source": [
    "ranked_mutations = group_A.iloc[:,1:].sum().sort_values(ascending=False).keys()\n",
    "t_actual = group_A.iloc[:,0].str.replace(r'^C\\d+$','1',regex=True).replace(r'^NC\\d+$','0',regex=True).astype(int)\n",
    "actual = pd.DataFrame(\n",
    "    np.tile(t_actual.values.reshape(-1,1), len(ranked_mutations)),\n",
    "    columns=ranked_mutations,\n",
    "    index=t_actual.index\n",
    ")\n",
    "predicted = group_A[ranked_mutations]\n",
    "\n",
    "TP = (((actual == 1) & (predicted == 1))).sum()\n",
    "FP = (((actual == 0) & (predicted == 1))).sum()\n",
    "FN = (((actual == 1) & (predicted == 0))).sum()\n",
    "TN = (((actual == 0) & (predicted == 0))).sum()\n",
    "\n",
    "values = pd.DataFrame({\n",
    "    'Mutation':ranked_mutations,\n",
    "    'TP': TP,\n",
    "    'FP': FP,\n",
    "    'FN': FN,\n",
    "    'TN': TN,\n",
    "    'TP-FP':TP-FP\n",
    "})\n",
    "alpha = values.sort_values(by='TP-FP',ascending=False).head(2).index[1] # second most TP-FP val\n",
    "group_A_1 = group_A[group_A[alpha] == 1]\n",
    "group_A_0 = group_A[group_A[alpha] == 0]\n",
    "top10features = pd.DataFrame({\"Group A\":values.sort_values(by='TP-FP',ascending=False).head(10).index})"
   ]
  },
  {
   "cell_type": "code",
   "execution_count": 13,
   "id": "979d220e",
   "metadata": {},
   "outputs": [
    {
     "name": "stderr",
     "output_type": "stream",
     "text": [
      "/var/folders/jl/mzy8kkps00x4490d9wzclp1r0000gn/T/ipykernel_61442/1846368004.py:4: FutureWarning: Series.__getitem__ treating keys as positions is deprecated. In a future version, integer keys will always be treated as labels (consistent with DataFrame behavior). To access a value by position, use `ser.iloc[pos]`\n",
      "  confusion_matrix[\"PP\"] = alpha_val.TP[0], alpha_val.FP[0]\n",
      "/var/folders/jl/mzy8kkps00x4490d9wzclp1r0000gn/T/ipykernel_61442/1846368004.py:5: FutureWarning: Series.__getitem__ treating keys as positions is deprecated. In a future version, integer keys will always be treated as labels (consistent with DataFrame behavior). To access a value by position, use `ser.iloc[pos]`\n",
      "  confusion_matrix[\"PN\"] = alpha_val.FN[0], alpha_val.TN[0]\n"
     ]
    },
    {
     "data": {
      "text/plain": [
       "Text(50.72222222222221, 0.5, 'ACTUAL')"
      ]
     },
     "execution_count": 13,
     "metadata": {},
     "output_type": "execute_result"
    },
    {
     "data": {
      "image/png": "[encoded data removed]",
      "text/plain": [
       "<Figure size 640x480 with 1 Axes>"
      ]
     },
     "metadata": {},
     "output_type": "display_data"
    }
   ],
   "source": [
    "## Confusion Matrix\n",
    "alpha_val = values[values[\"Mutation\"] == alpha]\n",
    "confusion_matrix = pd.DataFrame(columns=[\"PP\",\"PN\"])\n",
    "confusion_matrix[\"PP\"] = alpha_val.TP[0], alpha_val.FP[0]\n",
    "confusion_matrix[\"PN\"] = alpha_val.FN[0], alpha_val.TN[0]\n",
    "confusion_matrix\n",
    "\n",
    "plt.title(f\"{alpha} Confusion Matrix\")\n",
    "sns.heatmap(confusion_matrix, annot=True, cbar=False, xticklabels=['Cancer','Non-Cancer'] ,yticklabels=['Cancer','Non-Cancer'], fmt='g')\n",
    "plt.xlabel(\"PREDICTED\")\n",
    "plt.ylabel(\"ACTUAL\")"
   ]
  },
  {
   "cell_type": "code",
   "execution_count": 14,
   "id": "6d13a55c",
   "metadata": {},
   "outputs": [
    {
     "data": {
      "text/html": [
       "<div>\n",
       "<style scoped>\n",
       "    .dataframe tbody tr th:only-of-type {\n",
       "        vertical-align: middle;\n",
       "    }\n",
       "\n",
       "    .dataframe tbody tr th {\n",
       "        vertical-align: top;\n",
       "    }\n",
       "\n",
       "    .dataframe thead th {\n",
       "        text-align: right;\n",
       "    }\n",
       "</style>\n",
       "<table border=\"1\" class=\"dataframe\">\n",
       "  <thead>\n",
       "    <tr style=\"text-align: right;\">\n",
       "      <th></th>\n",
       "      <th>Mutation</th>\n",
       "      <th>TP</th>\n",
       "      <th>FP</th>\n",
       "      <th>FN</th>\n",
       "      <th>TN</th>\n",
       "      <th>TP-FP</th>\n",
       "    </tr>\n",
       "  </thead>\n",
       "  <tbody>\n",
       "    <tr>\n",
       "      <th>KRAS_GRCh37_12:25398284-25398284_Missense-Mutation_SNP_C-C-A_C-C-T_C-C-G</th>\n",
       "      <td>KRAS_GRCh37_12:25398284-25398284_Missense-Muta...</td>\n",
       "      <td>25</td>\n",
       "      <td>17</td>\n",
       "      <td>51</td>\n",
       "      <td>75</td>\n",
       "      <td>8</td>\n",
       "    </tr>\n",
       "    <tr>\n",
       "      <th>KRAS_GRCh37_12:25398281-25398281_Missense-Mutation_SNP_C-C-T</th>\n",
       "      <td>KRAS_GRCh37_12:25398281-25398281_Missense-Muta...</td>\n",
       "      <td>11</td>\n",
       "      <td>4</td>\n",
       "      <td>65</td>\n",
       "      <td>88</td>\n",
       "      <td>7</td>\n",
       "    </tr>\n",
       "    <tr>\n",
       "      <th>APC_GRCh37_5:112175951-112175952_Frame-Shift-Ins_INS_----A</th>\n",
       "      <td>APC_GRCh37_5:112175951-112175952_Frame-Shift-I...</td>\n",
       "      <td>5</td>\n",
       "      <td>0</td>\n",
       "      <td>71</td>\n",
       "      <td>92</td>\n",
       "      <td>5</td>\n",
       "    </tr>\n",
       "    <tr>\n",
       "      <th>APC_GRCh37_5:112116592-112116592_Nonsense-Mutation_SNP_C-C-T</th>\n",
       "      <td>APC_GRCh37_5:112116592-112116592_Nonsense-Muta...</td>\n",
       "      <td>5</td>\n",
       "      <td>1</td>\n",
       "      <td>71</td>\n",
       "      <td>91</td>\n",
       "      <td>4</td>\n",
       "    </tr>\n",
       "    <tr>\n",
       "      <th>APC_GRCh37_5:112175639-112175639_Nonsense-Mutation_SNP_C-C-T</th>\n",
       "      <td>APC_GRCh37_5:112175639-112175639_Nonsense-Muta...</td>\n",
       "      <td>7</td>\n",
       "      <td>3</td>\n",
       "      <td>69</td>\n",
       "      <td>89</td>\n",
       "      <td>4</td>\n",
       "    </tr>\n",
       "    <tr>\n",
       "      <th>QKI_GRCh37_6:163987695-163987695_Intron_DEL_T-T--</th>\n",
       "      <td>QKI_GRCh37_6:163987695-163987695_Intron_DEL_T-T--</td>\n",
       "      <td>4</td>\n",
       "      <td>0</td>\n",
       "      <td>72</td>\n",
       "      <td>92</td>\n",
       "      <td>4</td>\n",
       "    </tr>\n",
       "    <tr>\n",
       "      <th>PIK3CA_GRCh37_3:178936082-178936082_Missense-Mutation_SNP_G-G-A</th>\n",
       "      <td>PIK3CA_GRCh37_3:178936082-178936082_Missense-M...</td>\n",
       "      <td>5</td>\n",
       "      <td>1</td>\n",
       "      <td>71</td>\n",
       "      <td>91</td>\n",
       "      <td>4</td>\n",
       "    </tr>\n",
       "    <tr>\n",
       "      <th>HCRTR2_GRCh37_6:55145214-55145214_Silent_SNP_G-G-A</th>\n",
       "      <td>HCRTR2_GRCh37_6:55145214-55145214_Silent_SNP_G...</td>\n",
       "      <td>3</td>\n",
       "      <td>0</td>\n",
       "      <td>73</td>\n",
       "      <td>92</td>\n",
       "      <td>3</td>\n",
       "    </tr>\n",
       "    <tr>\n",
       "      <th>DIS3_GRCh37_13:73337650-73337650_Missense-Mutation_SNP_C-C-T</th>\n",
       "      <td>DIS3_GRCh37_13:73337650-73337650_Missense-Muta...</td>\n",
       "      <td>3</td>\n",
       "      <td>0</td>\n",
       "      <td>73</td>\n",
       "      <td>92</td>\n",
       "      <td>3</td>\n",
       "    </tr>\n",
       "    <tr>\n",
       "      <th>UBE2D1_GRCh37_10:60128572-60128572_3'UTR_DEL_T-T--</th>\n",
       "      <td>UBE2D1_GRCh37_10:60128572-60128572_3'UTR_DEL_T...</td>\n",
       "      <td>3</td>\n",
       "      <td>0</td>\n",
       "      <td>73</td>\n",
       "      <td>92</td>\n",
       "      <td>3</td>\n",
       "    </tr>\n",
       "  </tbody>\n",
       "</table>\n",
       "</div>"
      ],
      "text/plain": [
       "                                                                                             Mutation  \\\n",
       "KRAS_GRCh37_12:25398284-25398284_Missense-Mutat...  KRAS_GRCh37_12:25398284-25398284_Missense-Muta...   \n",
       "KRAS_GRCh37_12:25398281-25398281_Missense-Mutat...  KRAS_GRCh37_12:25398281-25398281_Missense-Muta...   \n",
       "APC_GRCh37_5:112175951-112175952_Frame-Shift-In...  APC_GRCh37_5:112175951-112175952_Frame-Shift-I...   \n",
       "APC_GRCh37_5:112116592-112116592_Nonsense-Mutat...  APC_GRCh37_5:112116592-112116592_Nonsense-Muta...   \n",
       "APC_GRCh37_5:112175639-112175639_Nonsense-Mutat...  APC_GRCh37_5:112175639-112175639_Nonsense-Muta...   \n",
       "QKI_GRCh37_6:163987695-163987695_Intron_DEL_T-T--   QKI_GRCh37_6:163987695-163987695_Intron_DEL_T-T--   \n",
       "PIK3CA_GRCh37_3:178936082-178936082_Missense-Mu...  PIK3CA_GRCh37_3:178936082-178936082_Missense-M...   \n",
       "HCRTR2_GRCh37_6:55145214-55145214_Silent_SNP_G-G-A  HCRTR2_GRCh37_6:55145214-55145214_Silent_SNP_G...   \n",
       "DIS3_GRCh37_13:73337650-73337650_Missense-Mutat...  DIS3_GRCh37_13:73337650-73337650_Missense-Muta...   \n",
       "UBE2D1_GRCh37_10:60128572-60128572_3'UTR_DEL_T-T--  UBE2D1_GRCh37_10:60128572-60128572_3'UTR_DEL_T...   \n",
       "\n",
       "                                                    TP  FP  FN  TN  TP-FP  \n",
       "KRAS_GRCh37_12:25398284-25398284_Missense-Mutat...  25  17  51  75      8  \n",
       "KRAS_GRCh37_12:25398281-25398281_Missense-Mutat...  11   4  65  88      7  \n",
       "APC_GRCh37_5:112175951-112175952_Frame-Shift-In...   5   0  71  92      5  \n",
       "APC_GRCh37_5:112116592-112116592_Nonsense-Mutat...   5   1  71  91      4  \n",
       "APC_GRCh37_5:112175639-112175639_Nonsense-Mutat...   7   3  69  89      4  \n",
       "QKI_GRCh37_6:163987695-163987695_Intron_DEL_T-T--    4   0  72  92      4  \n",
       "PIK3CA_GRCh37_3:178936082-178936082_Missense-Mu...   5   1  71  91      4  \n",
       "HCRTR2_GRCh37_6:55145214-55145214_Silent_SNP_G-G-A   3   0  73  92      3  \n",
       "DIS3_GRCh37_13:73337650-73337650_Missense-Mutat...   3   0  73  92      3  \n",
       "UBE2D1_GRCh37_10:60128572-60128572_3'UTR_DEL_T-T--   3   0  73  92      3  "
      ]
     },
     "execution_count": 14,
     "metadata": {},
     "output_type": "execute_result"
    }
   ],
   "source": [
    "ranked_mutations = group_B.iloc[:,1:].sum().sort_values(ascending=False).keys()\n",
    "t_actual = group_B.iloc[:,0].str.replace(r'^C\\d+$','1',regex=True).replace(r'^NC\\d+$','0',regex=True).astype(int)\n",
    "actual = pd.DataFrame(\n",
    "    np.tile(t_actual.values.reshape(-1,1), len(ranked_mutations)),\n",
    "    columns=ranked_mutations,\n",
    "    index=t_actual.index\n",
    ")\n",
    "predicted = group_B[ranked_mutations]\n",
    "\n",
    "TP = (((actual == 1) & (predicted == 1))).sum()\n",
    "FP = (((actual == 0) & (predicted == 1))).sum()\n",
    "FN = (((actual == 1) & (predicted == 0))).sum()\n",
    "TN = (((actual == 0) & (predicted == 0))).sum()\n",
    "\n",
    "values = pd.DataFrame({\n",
    "    'Mutation':ranked_mutations,\n",
    "    'TP': TP,\n",
    "    'FP': FP,\n",
    "    'FN': FN,\n",
    "    'TN': TN,\n",
    "    'TP-FP':TP-FP\n",
    "})\n",
    "\n",
    "beta = values.sort_values(by='TP-FP',ascending=False).head(1).index[0]\n",
    "group_B_1 = group_B[group_B[beta] == 1]\n",
    "group_B_0 = group_B[group_B[beta] == 0]\n",
    "top10features[\"Group B\"] = values.sort_values(by='TP-FP',ascending=False).head(10).index\n",
    "values.sort_values(by='TP-FP',ascending=False).head(10)"
   ]
  },
  {
   "cell_type": "code",
   "execution_count": 15,
   "id": "2031407c",
   "metadata": {},
   "outputs": [
    {
     "name": "stderr",
     "output_type": "stream",
     "text": [
      "/var/folders/jl/mzy8kkps00x4490d9wzclp1r0000gn/T/ipykernel_61442/3872497661.py:4: FutureWarning: Series.__getitem__ treating keys as positions is deprecated. In a future version, integer keys will always be treated as labels (consistent with DataFrame behavior). To access a value by position, use `ser.iloc[pos]`\n",
      "  confusion_matrix[\"PP\"] = beta_val.TP[0], beta_val.FP[0]\n",
      "/var/folders/jl/mzy8kkps00x4490d9wzclp1r0000gn/T/ipykernel_61442/3872497661.py:5: FutureWarning: Series.__getitem__ treating keys as positions is deprecated. In a future version, integer keys will always be treated as labels (consistent with DataFrame behavior). To access a value by position, use `ser.iloc[pos]`\n",
      "  confusion_matrix[\"PN\"] = beta_val.FN[0], beta_val.TN[0]\n"
     ]
    },
    {
     "data": {
      "text/plain": [
       "Text(50.72222222222221, 0.5, 'ACTUAL')"
      ]
     },
     "execution_count": 15,
     "metadata": {},
     "output_type": "execute_result"
    },
    {
     "data": {
      "image/png": "[encoded data removed]",
      "text/plain": [
       "<Figure size 640x480 with 1 Axes>"
      ]
     },
     "metadata": {},
     "output_type": "display_data"
    }
   ],
   "source": [
    "## Confusion Matrix\n",
    "beta_val = values.sort_values(by='TP-FP',ascending=False).head(1)\n",
    "confusion_matrix = pd.DataFrame(columns=[\"PP\",\"PN\"])\n",
    "confusion_matrix[\"PP\"] = beta_val.TP[0], beta_val.FP[0]\n",
    "confusion_matrix[\"PN\"] = beta_val.FN[0], beta_val.TN[0]\n",
    "\n",
    "plt.title(f\"{beta} Confusion Matrix\")\n",
    "sns.heatmap(confusion_matrix, annot=True, cbar=False, xticklabels=['Cancer','Non-Cancer'] ,yticklabels=['Cancer','Non-Cancer'], fmt='g')\n",
    "plt.xlabel(\"PREDICTED\")\n",
    "plt.ylabel(\"ACTUAL\")"
   ]
  },
  {
   "cell_type": "markdown",
   "id": "a5d0ba76",
   "metadata": {},
   "source": [
    "## Top 10 Features from group A and group B"
   ]
  },
  {
   "cell_type": "code",
   "execution_count": 16,
   "id": "c0808015",
   "metadata": {},
   "outputs": [
    {
     "data": {
      "text/html": [
       "<div>\n",
       "<style scoped>\n",
       "    .dataframe tbody tr th:only-of-type {\n",
       "        vertical-align: middle;\n",
       "    }\n",
       "\n",
       "    .dataframe tbody tr th {\n",
       "        vertical-align: top;\n",
       "    }\n",
       "\n",
       "    .dataframe thead th {\n",
       "        text-align: right;\n",
       "    }\n",
       "</style>\n",
       "<table border=\"1\" class=\"dataframe\">\n",
       "  <thead>\n",
       "    <tr style=\"text-align: right;\">\n",
       "      <th></th>\n",
       "      <th>Group A</th>\n",
       "      <th>Group B</th>\n",
       "    </tr>\n",
       "  </thead>\n",
       "  <tbody>\n",
       "    <tr>\n",
       "      <th>0</th>\n",
       "      <td>BRAF_GRCh37_7:140453136-140453136_Missense-Mut...</td>\n",
       "      <td>KRAS_GRCh37_12:25398284-25398284_Missense-Muta...</td>\n",
       "    </tr>\n",
       "    <tr>\n",
       "      <th>1</th>\n",
       "      <td>DRD5_GRCh37_4:9785349-9785349_3'UTR_SNP_G-G-C</td>\n",
       "      <td>KRAS_GRCh37_12:25398281-25398281_Missense-Muta...</td>\n",
       "    </tr>\n",
       "    <tr>\n",
       "      <th>2</th>\n",
       "      <td>DRD5_GRCh37_4:9785421-9785421_3'UTR_SNP_G-G-T</td>\n",
       "      <td>APC_GRCh37_5:112175951-112175952_Frame-Shift-I...</td>\n",
       "    </tr>\n",
       "    <tr>\n",
       "      <th>3</th>\n",
       "      <td>ZBTB20_GRCh37_3:114058003-114058003_Frame-Shif...</td>\n",
       "      <td>APC_GRCh37_5:112116592-112116592_Nonsense-Muta...</td>\n",
       "    </tr>\n",
       "    <tr>\n",
       "      <th>4</th>\n",
       "      <td>DOCK3_GRCh37_3:51417604-51417604_Frame-Shift-D...</td>\n",
       "      <td>APC_GRCh37_5:112175639-112175639_Nonsense-Muta...</td>\n",
       "    </tr>\n",
       "    <tr>\n",
       "      <th>5</th>\n",
       "      <td>XYLT2_GRCh37_17:48433967-48433967_Frame-Shift-...</td>\n",
       "      <td>QKI_GRCh37_6:163987695-163987695_Intron_DEL_T-T--</td>\n",
       "    </tr>\n",
       "    <tr>\n",
       "      <th>6</th>\n",
       "      <td>PGM5_GRCh37_9:70993145-70993145_Missense-Mutat...</td>\n",
       "      <td>PIK3CA_GRCh37_3:178936082-178936082_Missense-M...</td>\n",
       "    </tr>\n",
       "    <tr>\n",
       "      <th>7</th>\n",
       "      <td>SVIL_GRCh37_10:29760116-29760116_Frame-Shift-D...</td>\n",
       "      <td>HCRTR2_GRCh37_6:55145214-55145214_Silent_SNP_G...</td>\n",
       "    </tr>\n",
       "    <tr>\n",
       "      <th>8</th>\n",
       "      <td>MICAL3_GRCh37_22:18300932-18300932_Frame-Shift...</td>\n",
       "      <td>DIS3_GRCh37_13:73337650-73337650_Missense-Muta...</td>\n",
       "    </tr>\n",
       "    <tr>\n",
       "      <th>9</th>\n",
       "      <td>RNF43_GRCh37_17:56435161-56435161_Frame-Shift-...</td>\n",
       "      <td>UBE2D1_GRCh37_10:60128572-60128572_3'UTR_DEL_T...</td>\n",
       "    </tr>\n",
       "  </tbody>\n",
       "</table>\n",
       "</div>"
      ],
      "text/plain": [
       "                                             Group A  \\\n",
       "0  BRAF_GRCh37_7:140453136-140453136_Missense-Mut...   \n",
       "1      DRD5_GRCh37_4:9785349-9785349_3'UTR_SNP_G-G-C   \n",
       "2      DRD5_GRCh37_4:9785421-9785421_3'UTR_SNP_G-G-T   \n",
       "3  ZBTB20_GRCh37_3:114058003-114058003_Frame-Shif...   \n",
       "4  DOCK3_GRCh37_3:51417604-51417604_Frame-Shift-D...   \n",
       "5  XYLT2_GRCh37_17:48433967-48433967_Frame-Shift-...   \n",
       "6  PGM5_GRCh37_9:70993145-70993145_Missense-Mutat...   \n",
       "7  SVIL_GRCh37_10:29760116-29760116_Frame-Shift-D...   \n",
       "8  MICAL3_GRCh37_22:18300932-18300932_Frame-Shift...   \n",
       "9  RNF43_GRCh37_17:56435161-56435161_Frame-Shift-...   \n",
       "\n",
       "                                             Group B  \n",
       "0  KRAS_GRCh37_12:25398284-25398284_Missense-Muta...  \n",
       "1  KRAS_GRCh37_12:25398281-25398281_Missense-Muta...  \n",
       "2  APC_GRCh37_5:112175951-112175952_Frame-Shift-I...  \n",
       "3  APC_GRCh37_5:112116592-112116592_Nonsense-Muta...  \n",
       "4  APC_GRCh37_5:112175639-112175639_Nonsense-Muta...  \n",
       "5  QKI_GRCh37_6:163987695-163987695_Intron_DEL_T-T--  \n",
       "6  PIK3CA_GRCh37_3:178936082-178936082_Missense-M...  \n",
       "7  HCRTR2_GRCh37_6:55145214-55145214_Silent_SNP_G...  \n",
       "8  DIS3_GRCh37_13:73337650-73337650_Missense-Muta...  \n",
       "9  UBE2D1_GRCh37_10:60128572-60128572_3'UTR_DEL_T...  "
      ]
     },
     "execution_count": 16,
     "metadata": {},
     "output_type": "execute_result"
    }
   ],
   "source": [
    "top10features"
   ]
  },
  {
   "cell_type": "markdown",
   "id": "cd22791a",
   "metadata": {},
   "source": [
    "## Classification Rules | Assessing The Model | Decision Tree"
   ]
  },
  {
   "cell_type": "code",
   "execution_count": 17,
   "id": "2702a3b8",
   "metadata": {},
   "outputs": [
    {
     "name": "stdout",
     "output_type": "stream",
     "text": [
      "C1:5    positive\n",
      "Name: classification, dtype: object\n",
      "C10:21    negative\n",
      "Name: classification, dtype: object\n",
      "C30:60    negative\n",
      "Name: classification, dtype: object\n",
      "NC5:12    positive\n",
      "Name: classification, dtype: object\n",
      "NC15:29    negative\n",
      "Name: classification, dtype: object\n"
     ]
    }
   ],
   "source": [
    "def classify_fixed(sample):\n",
    "    if sample[F.index[0]] == 1:\n",
    "        return \"positive\" if sample[alpha] == 1 else \"negative\"\n",
    "    else:\n",
    "        return \"positive\" if sample[beta] == 1 else \"negative\"\n",
    "    \n",
    "data['classification'] = data.apply(classify_fixed, axis=1)\n",
    "\n",
    "print(f\"C1:{data[data['Unnamed: 0'] == \"C1\"].classification}\")\n",
    "print(f\"C10:{data[data['Unnamed: 0'] == \"C10\"].classification}\")\n",
    "print(f\"C30:{data[data['Unnamed: 0'] == \"C30\"].classification}\")\n",
    "print(f\"NC5:{data[data['Unnamed: 0'] == \"NC5\"].classification}\")\n",
    "print(f\"NC15:{data[data['Unnamed: 0'] == \"NC15\"].classification}\")"
   ]
  },
  {
   "cell_type": "code",
   "execution_count": 18,
   "id": "2fe19df8",
   "metadata": {},
   "outputs": [
    {
     "name": "stdout",
     "output_type": "stream",
     "text": [
      "Accuracy: 48.26%\n"
     ]
    }
   ],
   "source": [
    "y_true = data['Unnamed: 0'].str.startswith('C').astype(int)\n",
    "y_pred = data['classification'].str.startswith('C').astype(int)\n",
    "accuracy = (y_true == y_pred).mean()\n",
    "print(f\"Accuracy: {accuracy:.2%}\")"
   ]
  },
  {
   "cell_type": "code",
   "execution_count": 19,
   "id": "39658972",
   "metadata": {},
   "outputs": [
    {
     "data": {
      "image/png": "[encoded data removed]",
      "text/plain": [
       "<Figure size 640x480 with 1 Axes>"
      ]
     },
     "metadata": {},
     "output_type": "display_data"
    }
   ],
   "source": [
    "import matplotlib.pyplot as plt\n",
    "import networkx as nx\n",
    "\n",
    "alpha = alpha[:25]\n",
    "beta = beta[:25]\n",
    "\n",
    "G = nx.DiGraph()\n",
    "\n",
    "G.add_node(f\"{F.index[0]}\")\n",
    "G.add_node(f\"{alpha}\")\n",
    "G.add_node(f\"{beta}\")\n",
    "\n",
    "G.add_node(\"A1\")\n",
    "G.add_node(\"A2\")\n",
    "G.add_node(\"B1\")\n",
    "G.add_node(\"B2\")\n",
    "\n",
    "G.add_edge(f\"{F.index[0]}\", f\"{alpha}\", label=\"1\")  # F=1\n",
    "G.add_edge(f\"{F.index[0]}\", f\"{beta}\", label=\"0\")  # F=0\n",
    "G.add_edge(f\"{alpha}\", \"A1\", label=\"1\") # A=1\n",
    "G.add_edge(f\"{alpha}\", \"A2\", label=\"0\") # A=0\n",
    "G.add_edge(f\"{beta}\", \"B1\", label=\"1\") # B=1\n",
    "G.add_edge(f\"{beta}\", \"B2\", label=\"0\") # B=0\n",
    "\n",
    "pos = {\n",
    "    f\"{F.index[0]}\": (0, 2),\n",
    "    f\"{alpha}\": (-1, 1),\n",
    "    f\"{beta}\": (1, 1),\n",
    "    \"A1\": (-1.5, 0),\n",
    "    \"A2\": (-0.5, 0),\n",
    "    \"B1\": (0.5, 0),\n",
    "    \"B2\": (1.5, 0)\n",
    "}\n",
    "\n",
    "nx.draw(G, pos, with_labels=True, node_size=2000, node_color=\"lightblue\", font_size=12)\n",
    "\n",
    "edge_labels = nx.get_edge_attributes(G, 'label')\n",
    "nx.draw_networkx_edge_labels(G, pos, edge_labels=edge_labels, font_size=12)\n",
    "\n",
    "class_labels = {\n",
    "    \"A1\": \"C\",\n",
    "    \"A2\": \"NC\",\n",
    "    \"B1\": \"C\",\n",
    "    \"B2\": \"NC\"\n",
    "}\n",
    "for node, cls in class_labels.items():\n",
    "    x, y = pos[node]\n",
    "    plt.text(x, y-0.1, cls, fontsize=10, ha='center', color='black')"
   ]
  }
 ],
 "metadata": {
  "kernelspec": {
   "display_name": ".venv",
   "language": "python",
   "name": "python3"
  },
  "language_info": {
   "codemirror_mode": {
    "name": "ipython",
    "version": 3
   },
   "file_extension": ".py",
   "mimetype": "text/x-python",
   "name": "python",
   "nbconvert_exporter": "python",
   "pygments_lexer": "ipython3",
   "version": "3.13.5"
  }
 },
 "nbformat": 4,
 "nbformat_minor": 5
}
