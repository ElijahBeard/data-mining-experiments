{
 "cells": [
  {
   "cell_type": "code",
   "execution_count": 3,
   "id": "7a58387a",
   "metadata": {},
   "outputs": [],
   "source": [
    "import pandas as pd\n",
    "data = pd.read_csv(\"mutationc.csv\")"
   ]
  },
  {
   "cell_type": "code",
   "execution_count": 4,
   "id": "97054d36",
   "metadata": {},
   "outputs": [],
   "source": [
    "# number of unique mutations\n",
    "mutations = data.shape[1] - 1\n",
    "# number of induvidual samples\n",
    "samples = data.shape[0]\n",
    "# number of mutations for C1\n",
    "c1_mutations = data.iloc[5, 1:mutations].astype(int).sum()\n",
    "# number of mutations for NC1\n",
    "nc1_mutations = data.iloc[1, 1:mutations].astype(int).sum()\n",
    "# average number of mutations per induvidual\n",
    "mut_per_ind = data.iloc[:,1:mutations].mean().sum()\n",
    "# min | max of mutations per induvidual\n",
    "data_max = data.iloc[:,1:mutations].astype(int).sum(axis=1).max()\n",
    "data_min = data.iloc[:,1:mutations].astype(int).sum(axis=1).min()\n",
    "# number of induviduals who have amutation in the 'BRAF' gene\n",
    "case_braf = data[\"BRAF_GRCh37_7:140453136-140453136_Missense-Mutation_SNP_A-A-T\"].sum()\n",
    "# number of induviduals who have a mutation in the 'KRAS' gene\n",
    "select = data.columns[data.columns.str.contains(\"KRAS\")]\n",
    "case_kras = (data[select].sum(axis=1) > 0).sum()\n",
    "# average number of induviduals per mutation \n",
    "ind_per_mut = data.iloc[:,1:mutations].sum().mean()\n",
    "# min | max of induviduals per mutation\n",
    "data_max_ipm = data.iloc[:,1:mutations].sum().max()\n",
    "data_min_ipm = data.iloc[:,1:mutations].sum().min()"
   ]
  },
  {
   "cell_type": "code",
   "execution_count": 5,
   "id": "77d116b0",
   "metadata": {},
   "outputs": [
    {
     "name": "stdout",
     "output_type": "stream",
     "text": [
      "-----------------------------------\n",
      "Mutations:                     1144\n",
      "Samples:                       201\n",
      "C1 Mutations:                  46\n",
      "NC1 Mutations:                 6\n",
      "Avg Mutations per Indv:        15.09\n",
      "Mutations per Indv Min,Max     [1,204]\n",
      "Indv with BRAF gene:           33\n",
      "Indv with KRAS gene:           72\n",
      "Avg Indv per Mutation:         2.65\n",
      "Indv per Mutation Min,Max      [1,42]\n",
      "-----------------------------------\n"
     ]
    }
   ],
   "source": [
    "spc = 30\n",
    "print(f\"-----------------------------------\")\n",
    "print(f\"{'Mutations:':{spc}} {mutations}\")\n",
    "print(f\"{'Samples:':{spc}} {samples}\")\n",
    "print(f\"{'C1 Mutations:':{spc}} {c1_mutations}\")\n",
    "print(f\"{'NC1 Mutations:':{spc}} {nc1_mutations}\")\n",
    "print(f\"{'Avg Mutations per Indv:':{spc}} {mut_per_ind:.2f}\")\n",
    "print(f\"{'Mutations per Indv Min,Max':{spc}} [{data_min},{data_max}]\")\n",
    "print(f\"{'Indv with BRAF gene:':{spc}} {case_braf}\")\n",
    "print(f\"{'Indv with KRAS gene:':{spc}} {case_kras}\")\n",
    "print(f\"{'Avg Indv per Mutation:':{spc}} {ind_per_mut:.2f}\")\n",
    "print(f\"{'Indv per Mutation Min,Max':{spc}} [{data_min_ipm},{data_max_ipm}]\")\n",
    "print(f\"-----------------------------------\")"
   ]
  }
 ],
 "metadata": {
  "kernelspec": {
   "display_name": ".venv",
   "language": "python",
   "name": "python3"
  },
  "language_info": {
   "codemirror_mode": {
    "name": "ipython",
    "version": 3
   },
   "file_extension": ".py",
   "mimetype": "text/x-python",
   "name": "python",
   "nbconvert_exporter": "python",
   "pygments_lexer": "ipython3",
   "version": "3.13.5"
  }
 },
 "nbformat": 4,
 "nbformat_minor": 5
}
