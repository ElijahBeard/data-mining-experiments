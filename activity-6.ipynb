{
 "cells": [
  {
   "cell_type": "code",
   "execution_count": 111,
   "id": "9f82c78d",
   "metadata": {},
   "outputs": [],
   "source": [
    "import pandas as pd\n",
    "import numpy as np\n",
    "data = pd.read_csv(\"mutationc.csv\")"
   ]
  },
  {
   "cell_type": "code",
   "execution_count": 112,
   "id": "fb75ff81",
   "metadata": {},
   "outputs": [],
   "source": [
    "# returns set of dataframes where index 0 -> training set and index 1 -> testing set\n",
    "def create_training_testing_df(group: pd.DataFrame, folds: int):\n",
    "    if folds == 1:\n",
    "        return [group]\n",
    "    training = group.sample(frac=1/folds, random_state=None)\n",
    "    remaining = group.drop(training.index)\n",
    "    other_sets = create_training_testing_df(remaining, folds - 1)\n",
    "    return [training] + other_sets\n",
    "\n",
    "# returns dataframe of resulting TP FP FN TN and TP-FP Values\n",
    "def compute_confusion_table(group:pd.DataFrame):\n",
    "    actual_1d = group.iloc[:,0].replace(r'^C\\d+$','1',regex=True).replace(r'^NC\\d+$','0',regex=True).astype(int)\n",
    "    predicted = group.iloc[:,1:]\n",
    "    actual = pd.DataFrame(np.tile(actual_1d.values.reshape(actual_1d.shape[0],1), predicted.shape[1]), columns=predicted.columns, index=predicted.index)\n",
    "    TP = ((actual == 1) & (predicted == 1)).sum(axis=0)\n",
    "    FP = ((actual == 0) & (predicted == 1)).sum(axis=0)\n",
    "    FN = ((actual == 1) & (predicted == 0)).sum(axis=0)\n",
    "    TN = ((actual == 0) & (predicted == 0)).sum(axis=0)\n",
    "    return pd.DataFrame({\"TP\":TP,\"FP\":FP,\"FN\":FN,\"TN\":TN,\"TP-FP\":(TP-FP)})"
   ]
  },
  {
   "cell_type": "code",
   "execution_count": 113,
   "id": "38e49782",
   "metadata": {},
   "outputs": [],
   "source": [
    "def testing_process(training:pd.DataFrame,testing:pd.DataFrame) :\n",
    "    results = []\n",
    "    \n",
    "    ct = compute_confusion_table(training)\n",
    "    # find top TP-FP feature define as F\n",
    "    F = ct.sort_values(by='TP-FP',ascending=False).head(1).index[0]\n",
    "\n",
    "    # derive group A and group B\n",
    "    group_A = training[(training[F] == 1)]\n",
    "    group_B = training[(training[F] == 0)]\n",
    "\n",
    "    # get TP FP values for group A and group B\n",
    "    gA_confusion_table = compute_confusion_table(group_A)\n",
    "    gB_confusion_table = compute_confusion_table(group_B)\n",
    "\n",
    "    # derive alpha and beta features\n",
    "    alpha = gA_confusion_table.sort_values(by='TP-FP',ascending=False).index[1]\n",
    "    beta = gB_confusion_table.sort_values(by='TP-FP',ascending=False).index[0]\n",
    "    # classifying step\n",
    "    def classify(sample):\n",
    "        if sample[F] == 1:\n",
    "            return 1 if sample[alpha] == 1 else 0\n",
    "        else:\n",
    "            return 1 if sample[beta] == 1 else 0\n",
    "        \n",
    "    testing['classification'] = testing.apply(classify, axis=1)\n",
    "    # derive predicted values from classifications like before\n",
    "    actual = testing.iloc[:,0].replace(r'^C\\d+$','1',regex=True).replace(r'^NC\\d+$','0',regex=True).astype(int)\n",
    "    predicted = testing.classification\n",
    "    TP = ((actual == 1) & (predicted == 1)).sum(axis=0)\n",
    "    FP = ((actual == 0) & (predicted == 1)).sum(axis=0)\n",
    "    FN = ((actual == 1) & (predicted == 0)).sum(axis=0)\n",
    "    TN = ((actual == 0) & (predicted == 0)).sum(axis=0)\n",
    "    Accuracy = (TP + TN) / (TP + TN + FP + FN)\n",
    "    Sensitivity = TP / (TP + FN)\n",
    "    Specificity = TN / (TN + FP)\n",
    "    Precision = TP / (TP + FP)\n",
    "    Miss_rate = FN / (TP + FN)\n",
    "    False_discovery_rate = FP / (TP + FP)\n",
    "    False_omission_rate = FN / (FN + TN)\n",
    "    metrics = pd.DataFrame({\"Accuracy\":Accuracy,\"Sensitivity\":Sensitivity,\n",
    "                            \"Specificity\":Specificity,\"Precision\":Precision,\n",
    "                            \"Miss Rate\":Miss_rate,\"False Discovery Rate\":False_discovery_rate,\n",
    "                            \"False Omission Rate\":False_omission_rate},index=[0])\n",
    "    \n",
    "    results.append(F)\n",
    "    results.append(alpha)\n",
    "    results.append(beta)\n",
    "    results.append(testing)\n",
    "    results.append(metrics)\n",
    "    return results"
   ]
  },
  {
   "cell_type": "code",
   "execution_count": 114,
   "id": "fa6f7665",
   "metadata": {},
   "outputs": [],
   "source": [
    "sets = create_training_testing_df(data,3)\n",
    "results_1 = testing_process(sets[0],pd.concat([sets[1],sets[2]]))\n",
    "results_2 = testing_process(sets[1],pd.concat([sets[0],sets[2]]))\n",
    "results_3 = testing_process(sets[2],pd.concat([sets[0],sets[1]]))"
   ]
  },
  {
   "cell_type": "code",
   "execution_count": 115,
   "id": "ba586ccd",
   "metadata": {},
   "outputs": [
    {
     "name": "stdout",
     "output_type": "stream",
     "text": [
      "Trial 1 - Decision Tree Features:\n",
      "\tBRAF_GRCh37_7:140453136-140453136_Missense-Mutation_SNP_A-A-T\n",
      "\tDRD5_GRCh37_4:9785349-9785349_3'UTR_SNP_G-G-C\n",
      "\tKRAS_GRCh37_12:25398284-25398284_Missense-Mutation_SNP_C-C-A_C-C-T_C-C-G\n",
      "\n",
      "Trial 2 - Decision Tree Features:\n",
      "\tBRAF_GRCh37_7:140453136-140453136_Missense-Mutation_SNP_A-A-T\n",
      "\tDRD5_GRCh37_4:9785349-9785349_3'UTR_SNP_G-G-C\n",
      "\tKRAS_GRCh37_12:25398284-25398284_Missense-Mutation_SNP_C-C-A_C-C-T_C-C-G\n",
      "\n",
      "Trial 3 - Decision Tree Features:\n",
      "\tDRD5_GRCh37_4:9785349-9785349_3'UTR_SNP_G-G-C\n",
      "\tDOCK3_GRCh37_3:51417604-51417604_Frame-Shift-Del_DEL_C-C--\n",
      "\tKRAS_GRCh37_12:25398281-25398281_Missense-Mutation_SNP_C-C-T\n",
      "\n"
     ]
    }
   ],
   "source": [
    "print(f\"Trial 1 - Decision Tree Features:\\n\\t{results_1[0]}\\n\\t{results_1[1]}\\n\\t{results_1[2]}\\n\")\n",
    "print(f\"Trial 2 - Decision Tree Features:\\n\\t{results_2[0]}\\n\\t{results_2[1]}\\n\\t{results_2[2]}\\n\") \n",
    "print(f\"Trial 3 - Decision Tree Features:\\n\\t{results_3[0]}\\n\\t{results_3[1]}\\n\\t{results_3[2]}\\n\")"
   ]
  },
  {
   "cell_type": "code",
   "execution_count": 118,
   "id": "264413c0",
   "metadata": {},
   "outputs": [
    {
     "name": "stdout",
     "output_type": "stream",
     "text": [
      "0    0.574627\n",
      "Name: Accuracy, dtype: float64\n",
      "0    0.634328\n",
      "Name: Accuracy, dtype: float64\n",
      "0    0.5\n",
      "Name: Accuracy, dtype: float64\n",
      "   Accuracy  Sensitivity  Specificity  Precision  Miss Rate  \\\n",
      "0  0.569652     0.308781     0.849524   0.676236   0.691219   \n",
      "\n",
      "   False Discovery Rate  False Omission Rate  \n",
      "0              0.323764             0.461935  \n"
     ]
    }
   ],
   "source": [
    "avg_metrics = (results_1[4] + results_2[4] + results_3[4]) / 3\n",
    "\n",
    "print(results_1[4].Accuracy)\n",
    "print(results_2[4].Accuracy)\n",
    "print(results_3[4].Accuracy)\n",
    "print(avg_metrics)"
   ]
  }
 ],
 "metadata": {
  "kernelspec": {
   "display_name": ".venv",
   "language": "python",
   "name": "python3"
  },
  "language_info": {
   "codemirror_mode": {
    "name": "ipython",
    "version": 3
   },
   "file_extension": ".py",
   "mimetype": "text/x-python",
   "name": "python",
   "nbconvert_exporter": "python",
   "pygments_lexer": "ipython3",
   "version": "3.13.5"
  }
 },
 "nbformat": 4,
 "nbformat_minor": 5
}
